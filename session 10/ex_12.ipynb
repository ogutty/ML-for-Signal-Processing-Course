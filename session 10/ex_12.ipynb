{
 "cells": [
  {
   "cell_type": "markdown",
   "metadata": {},
   "source": [
    "<img src=\"Electronic_Brain.png\" width=\"200\" style=\"float:left\">\n",
    "<h1> Summer 2021 ML Course.</h1>\n",
    "<h2> Exercise 12: Time Series<br>Tools: Sktime</h2>"
   ]
  },
  {
   "cell_type": "code",
   "execution_count": null,
   "metadata": {},
   "outputs": [],
   "source": [
    "!python --version\n",
    "import numpy as np\n",
    "import pandas as pd\n",
    "\n",
    "import matplotlib as plt\n",
    "import matplotlib.pyplot as plt\n",
    "\n",
    "from scipy.linalg import norm\n",
    "from sklearn.linear_model import RidgeCV\n",
    "from sklearn.linear_model import RidgeClassifierCV\n",
    "from sklearn.pipeline import make_pipeline\n",
    "from sktime.datatypes._panel._convert import from_2d_array_to_nested\n",
    "from sktime.transformations.panel.rocket import MiniRocket, MiniRocketMultivariate\n",
    "from random import gauss, randint\n",
    "from icecream import ic"
   ]
  },
  {
   "cell_type": "code",
   "execution_count": null,
   "metadata": {},
   "outputs": [],
   "source": [
    "# Set a few defaults.\n",
    "# np.random.seed(666)\n",
    "np.random.seed()\n",
    "pd.set_option('display.precision', 3)\n",
    "plt.rcParams['figure.figsize'] = [15, 5]"
   ]
  },
  {
   "cell_type": "markdown",
   "metadata": {},
   "source": [
    "<img src=\"desktop-computer-icon.png\" width=\"80\" style=\"float:left\">\n",
    "<h1> &nbsp; Section A: Stationary Signals with Different Variance</h1>\n",
    "We begin our time series quest with a simple example: two stationary zero-mean signals with a slightly different variances.<br>\n",
    "Calling the two signals AAPL and MSFT, we randomly generate 500 signal segments, of length 200 each.<br>\n",
    "We use half for training, half for testing."
   ]
  },
  {
   "cell_type": "code",
   "execution_count": null,
   "metadata": {},
   "outputs": [],
   "source": [
    "# Generate AAPL's \"stationary\" behavior, with variance 3 (as compared to MSFT's 2.5).\n",
    "num_subseqs = 500\n",
    "series_len = 200\n",
    "prices_df = pd.DataFrame()\n",
    "appl_prices = np.array([])\n",
    "msft_prices = np.array([])\n",
    "ticker_idx = {'AAPL':0, 'MSFT':1}\n",
    "ticker_sigmas = {'AAPL':3, 'MSFT':2.5}\n",
    "\n",
    "tickers = []\n",
    "X = np.zeros([2*num_subseqs, series_len])\n",
    "idx = 0\n",
    "for _ in range(num_subseqs):\n",
    "    for ticker in ['AAPL', 'MSFT']:\n",
    "        X[idx, :] = np.random.normal(0, ticker_sigmas[ticker], series_len)\n",
    "        tickers.append(ticker_idx[ticker])\n",
    "        idx += 1\n",
    "    \n",
    "X_train = from_2d_array_to_nested(X[:499, :])\n",
    "y_train = pd.DataFrame(tickers[:499], columns=['class_val'])\n",
    "X_test = from_2d_array_to_nested(X[500:, :])\n",
    "y_test = pd.DataFrame(tickers[500:], columns=['class_val'])\n",
    "y_train = np.ravel(y_train)\n",
    "y_test = np.ravel(y_test)\n",
    "ic(X_train.shape, y_train.shape)\n",
    "ic(X_test.shape, y_test.shape);"
   ]
  },
  {
   "cell_type": "code",
   "execution_count": null,
   "metadata": {},
   "outputs": [],
   "source": [
    "AAPL = X_train[0].iloc[0].values\n",
    "MSFT = X_train[0].iloc[1].values\n",
    "\n",
    "fig, ax = plt.subplots()\n",
    "ax.plot(AAPL, color='green', label='AAPL')\n",
    "ax.plot(MSFT, color='red', label='MSFT')\n",
    "ax.set_title('Stationary signals with different variance. What is the optimal APPL vs. MSFT classifier?')\n",
    "ax.legend();"
   ]
  },
  {
   "cell_type": "markdown",
   "metadata": {},
   "source": [
    "<img src=\"rice.png\" width=\"80\" style=\"float:left\">\n",
    "We first use Rice's (optimal) variance estimator to classify the series.<br>\n",
    "After estimating the variance numerically we set the midpoint of the (known) variances as the threshold."
   ]
  },
  {
   "cell_type": "code",
   "execution_count": null,
   "metadata": {},
   "outputs": [],
   "source": [
    "num_correct_class = 0\n",
    "for i in range(len(y_test)):\n",
    "    series_std = np.sqrt(np.var(X[i,:]))\n",
    "    series_class = i%2\n",
    "\n",
    "    # Use 2.75 as the threshold (midpoint between 2.5 and 3).\n",
    "    if (series_std > 2.75 and series_class==0) or (series_std < 2.75 and series_class==1):\n",
    "        num_correct_class += 1\n",
    "\n",
    "correct_pct_str = \"{:.2f}\".format(100*num_correct_class / len(y_test))\n",
    "print(\"Rice estimator correct classifications:\", num_correct_class, \"out of\", len(y_test), \"(\", correct_pct_str, \"%)\")"
   ]
  },
  {
   "cell_type": "markdown",
   "metadata": {},
   "source": [
    "<img src=\"rocket-ship.png\" width=\"60\" style=\"float:left\">\n",
    "<br>We now use the MiniROCKET classifier for the exact same task."
   ]
  },
  {
   "cell_type": "code",
   "execution_count": null,
   "metadata": {},
   "outputs": [],
   "source": [
    "minirocket = MiniRocket()\n",
    "minirocket.fit(X_train)\n",
    "X_train_transform = minirocket.transform(X_train)"
   ]
  },
  {
   "cell_type": "code",
   "execution_count": null,
   "metadata": {},
   "outputs": [],
   "source": [
    "classifier = RidgeClassifierCV(alphas=np.logspace(-3, 3, 10), normalize=True)\n",
    "classifier.fit(X_train_transform, y_train);"
   ]
  },
  {
   "cell_type": "code",
   "execution_count": null,
   "metadata": {},
   "outputs": [],
   "source": [
    "X_test_transform = minirocket.transform(X_test)"
   ]
  },
  {
   "cell_type": "code",
   "execution_count": null,
   "metadata": {},
   "outputs": [],
   "source": [
    "mini_rocket_score = classifier.score(X_test_transform, y_test)\n",
    "correct_pct_str = \"{:.2f}\".format(100*mini_rocket_score)\n",
    "print(\"MiniRocket classification accuracy:\", correct_pct_str, \"%\")"
   ]
  },
  {
   "cell_type": "markdown",
   "metadata": {
    "tags": []
   },
   "source": [
    "<img src=\"desktop-computer-icon.png\" width=\"80\" style=\"float:left\">\n",
    "<h1> &nbsp; Section B: Switching signals</h1><br>\n",
    "We now generate some \"new norm\" behavior: prices alternating between levels of 10 and 30 USD, for 20 days at a time.<br>\n",
    "Aside from the \"price transition\", AAPL and MSFT have variances identical to the previous section."
   ]
  },
  {
   "cell_type": "code",
   "execution_count": null,
   "metadata": {},
   "outputs": [],
   "source": [
    "# Generate the \"Alternating\" behavior. \n",
    "num_subseqs = 500\n",
    "num_cycles = 10\n",
    "cycle_len = 20\n",
    "padding_len = 30\n",
    "final_len = num_cycles * cycle_len + padding_len\n",
    "\n",
    "prices_df = pd.DataFrame()\n",
    "appl_prices = np.array([])\n",
    "msft_prices = np.array([])\n",
    "ticker_idx = {'AAPL':0, 'MSFT':1}\n",
    "ticker_sigmas = {'AAPL':3, 'MSFT':2.5}\n",
    "\n",
    "tickers = []\n",
    "X = np.zeros([2*num_subseqs, final_len])\n",
    "idx = 0\n",
    "for _ in range(num_subseqs):\n",
    "    for ticker in ['AAPL', 'MSFT']:\n",
    "       \n",
    "        prices = np.array([])\n",
    "        for i in range(num_cycles):\n",
    "            curr_prices = 20 + 10*(-1)**i + np.random.normal(0, ticker_sigmas[ticker], cycle_len)\n",
    "            prices = np.append(prices, curr_prices)\n",
    "        \n",
    "        # Add a random number of prefix & suffix zeros such that the sum remains constant.\n",
    "        prefix_len = np.random.randint(padding_len)\n",
    "        prefix_pad = np.zeros(prefix_len)\n",
    "        suffix_pad = np.zeros(padding_len - prefix_len)\n",
    "        final_prices = np.concatenate((prefix_pad, prices, suffix_pad))\n",
    "\n",
    "        X[idx, :] = final_prices\n",
    "        tickers.append(ticker_idx[ticker])\n",
    "        idx += 1\n",
    "    \n",
    "X_train = from_2d_array_to_nested(X[:499, :])\n",
    "y_train = pd.DataFrame(tickers[:499], columns=['class_val'])\n",
    "X_test = from_2d_array_to_nested(X[500:, :])\n",
    "y_test = pd.DataFrame(tickers[500:], columns=['class_val'])\n",
    "y_train = np.ravel(y_train)\n",
    "y_test = np.ravel(y_test)\n",
    "ic(X_train.shape, y_train.shape)\n",
    "ic(X_test.shape, y_test.shape);"
   ]
  },
  {
   "cell_type": "code",
   "execution_count": null,
   "metadata": {
    "tags": []
   },
   "outputs": [],
   "source": [
    "AAPL = X_train[0].iloc[0].values\n",
    "MSFT = X_train[0].iloc[1].values\n",
    "\n",
    "fig, ax = plt.subplots()\n",
    "ax.plot(AAPL, color='green', label='AAPL')\n",
    "ax.plot(MSFT, color='red', label='MSFT')\n",
    "ax.set_title('Switching signals with different variance (the different variance levels are \"dwarfed\" by the jumps).\\n' + \\\n",
    "             'What is the optimal APPL vs. MSFT classifier now?')\n",
    "ax.legend();"
   ]
  },
  {
   "cell_type": "code",
   "execution_count": null,
   "metadata": {},
   "outputs": [],
   "source": [
    "# Use Rice's (not-optimal-anymore) variance estimator to classify the series.\n",
    "correct_class = 0\n",
    "threshold = 11.7825  # This number was optimized manually!\n",
    "for i in range(len(y_test)):\n",
    "    series_std = np.sqrt(np.var(X[i,:]))\n",
    "    series_class = i%2\n",
    "    #print(series_class, series_std)\n",
    "    if (series_std > threshold and series_class==0) or (series_std < threshold and series_class==1):\n",
    "        correct_class += 1\n",
    "\n",
    "correct_pct_str = \"{:.2f}\".format(100*correct_class / len(y_test))\n",
    "print(\"Number of correct classifications:\", correct_class, \"out of\", len(y_test), \"(\", correct_pct_str, \"%)\")"
   ]
  },
  {
   "cell_type": "markdown",
   "metadata": {},
   "source": [
    "<img src=\"rocket-ship.png\" width=\"60\" style=\"float:left\">\n",
    "<br>We now use the MiniROCKET classifier for the exact same task."
   ]
  },
  {
   "cell_type": "code",
   "execution_count": null,
   "metadata": {},
   "outputs": [],
   "source": [
    "minirocket = MiniRocket()\n",
    "minirocket.fit(X_train)\n",
    "X_train_transform = minirocket.transform(X_train)"
   ]
  },
  {
   "cell_type": "code",
   "execution_count": null,
   "metadata": {},
   "outputs": [],
   "source": [
    "classifier = RidgeClassifierCV(alphas=np.logspace(-3, 3, 10), normalize=True)\n",
    "classifier.fit(X_train_transform, y_train);"
   ]
  },
  {
   "cell_type": "code",
   "execution_count": null,
   "metadata": {},
   "outputs": [],
   "source": [
    "X_test_transform = minirocket.transform(X_test)"
   ]
  },
  {
   "cell_type": "code",
   "execution_count": null,
   "metadata": {},
   "outputs": [],
   "source": [
    "mini_rocket_score = classifier.score(X_test_transform, y_test)\n",
    "correct_pct_str = \"{:.2f}\".format(100*mini_rocket_score)\n",
    "print(\"MiniRocket classification accuracy:\", correct_pct_str, \"%\")\n",
    "\n",
    "# BTW, if we wish to obtain the actual decisions per sample, they are avail via:\n",
    "dec_func = classifier.decision_function(X_train_transform)"
   ]
  },
  {
   "cell_type": "markdown",
   "metadata": {
    "tags": []
   },
   "source": [
    "<img src=\"desktop-computer-icon.png\" width=\"80\" style=\"float:left\">\n",
    "<h1> &nbsp; Section C: Transitioning signals</h1>\n",
    "We generate stock prices yet again, this time *transitioning* from one price level to another.<br>\n",
    "The transitions occur at random locations, with AAPL transitioning somewhere in the first half of the series, while MSFT transitions in the second.<br>\n",
    "In order to challenge the classifier,we now set the two stocks' variances identically."
   ]
  },
  {
   "cell_type": "code",
   "execution_count": null,
   "metadata": {},
   "outputs": [],
   "source": [
    "price_sigma = 3\n",
    "series_len = 200\n",
    "\n",
    "prices_df = pd.DataFrame()\n",
    "appl_prices = np.array([])\n",
    "msft_prices = np.array([])\n",
    "\n",
    "ticker_idx = {'AAPL':0, 'MSFT':1}\n",
    "ticker_sigmas = {'AAPL':price_sigma, 'MSFT':price_sigma}\n",
    "\n",
    "tickers = []\n",
    "X = np.zeros([2*num_subseqs, series_len])\n",
    "idx = 0\n",
    "for _ in range(num_subseqs):\n",
    "    for ticker in ['AAPL', 'MSFT']:\n",
    "        X[idx, :] = np.random.normal(0, ticker_sigmas[ticker], series_len)\n",
    "        tickers.append(ticker_idx[ticker])\n",
    "        \n",
    "        # AAPL always transitions at a random time during the first half of the series while\n",
    "        # MSFT transitions during the second half.\n",
    "        transition_idx = np.random.randint(series_len//2)\n",
    "        if ticker=='MSFT':\n",
    "            transition_idx += series_len//2\n",
    "        \n",
    "        X[idx, transition_idx:] += price_sigma # Add one price sigma only after the transition.\n",
    "        idx += 1    \n",
    "\n",
    "X_train = from_2d_array_to_nested(X[:499, :])\n",
    "y_train = pd.DataFrame(tickers[:499], columns=['class_val'])\n",
    "X_test = from_2d_array_to_nested(X[500:, :])\n",
    "y_test = pd.DataFrame(tickers[500:], columns=['class_val'])\n",
    "y_train = np.ravel(y_train)\n",
    "y_test = np.ravel(y_test)\n",
    "ic(X_train.shape, y_train.shape)\n",
    "ic(X_test.shape, y_test.shape);"
   ]
  },
  {
   "cell_type": "code",
   "execution_count": null,
   "metadata": {
    "tags": []
   },
   "outputs": [],
   "source": [
    "AAPL = X_train[0].iloc[0].values\n",
    "MSFT = X_train[0].iloc[1].values\n",
    "\n",
    "fig, ax = plt.subplots()\n",
    "ax.plot(AAPL, color='green', label='AAPL')\n",
    "ax.plot(MSFT, color='red', label='MSFT')\n",
    "ax.set_title('Transitioning signals (the transitions are *barely* noticeable: only one sigma was added after transition point)\\n' + \\\n",
    "    'AAPL transitions at a random time in the first half of the series while MSFT transitions in the second half.')\n",
    "ax.legend();"
   ]
  },
  {
   "cell_type": "code",
   "execution_count": null,
   "metadata": {},
   "outputs": [],
   "source": [
    "minirocket = MiniRocket()\n",
    "minirocket.fit(X_train)\n",
    "X_train_transform = minirocket.transform(X_train)"
   ]
  },
  {
   "cell_type": "code",
   "execution_count": null,
   "metadata": {},
   "outputs": [],
   "source": [
    "classifier = RidgeClassifierCV(alphas=np.logspace(-3, 3, 10), normalize=True)\n",
    "classifier.fit(X_train_transform, y_train);"
   ]
  },
  {
   "cell_type": "code",
   "execution_count": null,
   "metadata": {
    "tags": []
   },
   "outputs": [],
   "source": [
    "X_test_transform = minirocket.transform(X_test)"
   ]
  },
  {
   "cell_type": "code",
   "execution_count": null,
   "metadata": {},
   "outputs": [],
   "source": [
    "mini_rocket_score = classifier.score(X_test_transform, y_test)\n",
    "correct_pct_str = \"{:.2f}\".format(100*mini_rocket_score)\n",
    "print(\"MiniRocket classification accuracy:\", correct_pct_str, \"%\")"
   ]
  },
  {
   "cell_type": "markdown",
   "metadata": {
    "tags": []
   },
   "source": [
    "<img src=\"desktop-computer-icon.png\" width=\"80\" style=\"float:left\">\n",
    "<h1> &nbsp; Section D: Multipath Signal Classification</h1><br>\n",
    "Compose signals via random sinusoids, with relatively low (<< Nyquist) frequencies.<br>\n",
    "Add delayed signals only to the first class."
   ]
  },
  {
   "cell_type": "code",
   "execution_count": null,
   "metadata": {},
   "outputs": [],
   "source": [
    "num_sigs_each_class = 500\n",
    "num_sines_per_signal = 3\n",
    "\n",
    "samp_freq = 500\n",
    "min_sine_freq = 10\n",
    "max_sine_freq = 50\n",
    "\n",
    "min_delay = 0.0025\n",
    "max_delay = 0.005\n",
    "simulation_secs = 10\n",
    "delayed_amp = 0.1\n",
    "\n",
    "basic_sig_comb = np.arange(0, simulation_secs, 1/samp_freq)\n",
    "X = np.zeros([2*num_sigs_each_class, len(basic_sig_comb)])\n",
    "\n",
    "labels = []\n",
    "idx = 0\n",
    "for _ in range(num_sigs_each_class):\n",
    "    for sig_class in [0,1]:\n",
    "        sig_comb = np.random.rand() + basic_sig_comb # Offset signal comb by some random number (why not?).\n",
    "        \n",
    "        # Generate the signal via randomly selected sine freqs.\n",
    "        sine_freqs = min_sine_freq + (max_sine_freq - min_sine_freq) * np.random.rand(num_sines_per_signal)\n",
    "        sig = np.zeros(len(basic_sig_comb))\n",
    "        for freq in sine_freqs:\n",
    "            sig += np.cos(2*np.pi*freq*sig_comb)\n",
    "\n",
    "        if sig_class==1:\n",
    "            # Choose a random delay randomly from 0 to max_delay.\n",
    "            delay = min_delay + (max_delay - min_delay) * np.random.rand()\n",
    "            delayed_comb = sig_comb + delay\n",
    "            for freq in sine_freqs:\n",
    "                sig += delayed_amp * np.cos(2*np.pi*freq*delayed_comb)\n",
    "        \n",
    "        labels.append(sig_class)\n",
    "        X[idx, :] = sig\n",
    "        idx += 1\n",
    "    \n",
    "X_train = from_2d_array_to_nested(X[:499, :])\n",
    "y_train = pd.DataFrame(labels[:499], columns=['class_val'])\n",
    "X_test = from_2d_array_to_nested(X[500:, :])\n",
    "y_test = pd.DataFrame(labels[500:], columns=['class_val'])\n",
    "y_train = np.ravel(y_train)\n",
    "y_test = np.ravel(y_test)\n",
    "ic(X_train.shape, y_train.shape)\n",
    "ic(X_test.shape, y_test.shape);"
   ]
  },
  {
   "cell_type": "code",
   "execution_count": null,
   "metadata": {
    "tags": []
   },
   "outputs": [],
   "source": [
    "AAPL = X_train[0].iloc[0].values\n",
    "MSFT = X_train[0].iloc[1].values\n",
    "\n",
    "fig, ax = plt.subplots()\n",
    "ax.plot(AAPL[:300], color='green', label='AAPL')\n",
    "ax.plot(MSFT[:300], color='red', label='MSFT')\n",
    "ax.set_title('Multipath signals')\n",
    "ax.legend();"
   ]
  },
  {
   "cell_type": "code",
   "execution_count": null,
   "metadata": {},
   "outputs": [],
   "source": [
    "minirocket = MiniRocket()\n",
    "minirocket.fit(X_train)\n",
    "X_train_transform = minirocket.transform(X_train)\n",
    "\n",
    "classifier = RidgeClassifierCV(alphas=np.logspace(-3, 3, 10), normalize=True)\n",
    "classifier.fit(X_train_transform, y_train);"
   ]
  },
  {
   "cell_type": "code",
   "execution_count": null,
   "metadata": {
    "tags": []
   },
   "outputs": [],
   "source": [
    "X_test_transform = minirocket.transform(X_test)"
   ]
  },
  {
   "cell_type": "code",
   "execution_count": null,
   "metadata": {},
   "outputs": [],
   "source": [
    "mini_rocket_score = classifier.score(X_test_transform, y_test)\n",
    "correct_pct_str = \"{:.2f}\".format(100*mini_rocket_score)\n",
    "print(\"MiniRocket classification accuracy:\", correct_pct_str, \"%\")"
   ]
  },
  {
   "cell_type": "markdown",
   "metadata": {},
   "source": [
    "<img src=\"Electronic_Brain.png\" width=\"120\" style=\"float:left\">\n",
    "Which physical feature in the time series did the algorithm use to perform the classification?<br>\n",
    "Please test your hypothesis via simulation."
   ]
  },
  {
   "cell_type": "markdown",
   "metadata": {
    "tags": []
   },
   "source": [
    "<img src=\"desktop-computer-icon.png\" width=\"80\" style=\"float:left\">\n",
    "<h1> &nbsp; Section E: Sinusoidal Frequency Estimation</h1>"
   ]
  },
  {
   "cell_type": "code",
   "execution_count": null,
   "metadata": {},
   "outputs": [],
   "source": [
    "# Compose a signals with one random frequency (< Nyquist) sinusoid plus noise.\n",
    "num_sigs = 1000\n",
    "noise_amp = 0.1\n",
    "samp_freq = 500\n",
    "simulation_secs = 4\n",
    "min_sine_freq = 1\n",
    "max_sine_freq = 249\n",
    "\n",
    "# Set up a \"basic\" sample comb, which each signal will move by some delay.\n",
    "basic_sig_comb = np.arange(0, simulation_secs, 1/samp_freq)\n",
    "sig_len = len(basic_sig_comb)\n",
    "\n",
    "X = np.zeros([num_sigs, sig_len])\n",
    "y = np.zeros(num_sigs)\n",
    "for idx in range(num_sigs):\n",
    "    \n",
    "    # Offset sample comb by some random number (== phase).\n",
    "    sig_comb = np.random.rand() + basic_sig_comb  \n",
    "    # Generate the signal via a random frequency sine wave.\n",
    "    sine_freq = min_sine_freq + np.random.rand() * (max_sine_freq - min_sine_freq)\n",
    "    sig = np.cos(2*np.pi*sine_freq*sig_comb) + noise_amp * np.random.standard_normal(sig_len)\n",
    "\n",
    "    X[idx, :] = sig\n",
    "    y[idx] = sine_freq\n",
    "\n",
    "X_train = from_2d_array_to_nested(X[:499])\n",
    "y_train = pd.DataFrame(y[:499], columns=['class_val'])\n",
    "\n",
    "X_test = from_2d_array_to_nested(X[500:])\n",
    "y_test = pd.DataFrame(y[500:], columns=['class_val'])\n",
    "\n",
    "y_train = np.ravel(y_train)\n",
    "y_test = np.ravel(y_test)\n",
    "\n",
    "ic(X.shape)\n",
    "ic(X_train.shape, y_train.shape)\n",
    "ic(X_test.shape, y_test.shape);"
   ]
  },
  {
   "cell_type": "code",
   "execution_count": null,
   "metadata": {},
   "outputs": [],
   "source": [
    "minirocket = MiniRocket()\n",
    "minirocket.fit(X_train)\n",
    "X_train_transform = minirocket.transform(X_train)\n",
    "\n",
    "regressor = RidgeCV()\n",
    "regressor.fit(X_train_transform, y_train)\n",
    "\n",
    "X_test_transform = minirocket.transform(X_test)\n",
    "reg_score = regressor.score(X_test_transform, y_test)\n",
    "\n",
    "# Obtain the default score for RidgeCV (see sklearn's documentation for details).\n",
    "regression_score_str = \"{:.3f}\".format(reg_score)\n",
    "print(\"MiniRocket regression score:\", regression_score_str)\n",
    "\n",
    "# To better understand the regression accuracy we form the error vector, then calculate its mean absolute deviation per sample.\n",
    "error_vec = y_test - regressor.predict(X_test_transform)\n",
    "mad_per_samp = norm(error_vec, 1)/ len(error_vec)\n",
    "mad_per_samp_str = \"{:.3f}\".format(mad_per_samp)\n",
    "print(\"Mean absolute deviation per sample:\", mad_per_samp_str, \"Hz\")"
   ]
  },
  {
   "cell_type": "markdown",
   "metadata": {
    "tags": []
   },
   "source": [
    "<img src=\"desktop-computer-icon.png\" width=\"80\" style=\"float:left\">\n",
    "<h1> &nbsp; Exercise: square waves frequency estimation.</h1><br>\n",
    "Please repeat the regression above, this time creating square waves (varying the level of noise), again estimating frequency."
   ]
  },
  {
   "cell_type": "markdown",
   "metadata": {},
   "source": [
    "<img src=\"rocket-ship.png\" width=\"60\" style=\"float:left\">\n",
    "<img src=\"rocket-ship.png\" width=\"60\" style=\"float:left\">\n",
    "<h1> &nbsp; Section F: Localization via Multivariate Time Series Regression</h1>\n",
    "In this section, we harness the full power of multivariate TS regression to estimate the (non-integer) delay between two noisy signals."
   ]
  },
  {
   "cell_type": "code",
   "execution_count": null,
   "metadata": {},
   "outputs": [],
   "source": [
    "# Compose signals via random sinusoids, with relatively low (Nyquist/25 < f < Nyquist/5) frequencies.\n",
    "# Add some (non-integer!) delay, pose as a regression problem.\n",
    "num_sigs = 1000\n",
    "samp_freq = 500\n",
    "min_sine_freq = 10\n",
    "max_sine_freq = 50\n",
    "simulation_secs = 8\n",
    "\n",
    "num_sines_per_signal = 20    # Notice how badly the alg does when this is set to 1!!!\n",
    "noise_amp = 0.5              # Another obvious lever to play with.\n",
    "max_delay = 0.01             # Max delay is set to 10msec (== 5 samples).\n",
    "\n",
    "# Set up a \"basic\" sample comb, which each signal will move by some delay.\n",
    "basic_sig_comb = np.arange(0, simulation_secs, 1/samp_freq)\n",
    "sig_len = len(basic_sig_comb)\n",
    "\n",
    "# Instead, placing them inside a dataframe did work:\n",
    "X_df = pd.DataFrame(columns=['sig1', 'sig2','delay'])\n",
    "y = []\n",
    "for idx in range(num_sigs):\n",
    "    sig_comb = np.random.rand() + basic_sig_comb  # Offset sample comb by some random number (== phase).\n",
    "    delay = np.abs(max_delay * np.random.rand())   # Apply an additional non-integer random delay (in [0, max_delay_diff], only to sig2).\n",
    "    delayed_comb = sig_comb + delay\n",
    "\n",
    "    # Generate sig1 via randomly selected sine freqs.\n",
    "    sine_freqs = min_sine_freq + (max_sine_freq - min_sine_freq) * np.random.rand(num_sines_per_signal)\n",
    "    sig1 = np.zeros(sig_len)\n",
    "    sig2 = np.zeros(sig_len)\n",
    "    for freq in sine_freqs:\n",
    "        sig1 += np.cos(2*np.pi*freq*sig_comb)\n",
    "        sig2 += np.cos(2*np.pi*freq*delayed_comb)\n",
    "\n",
    "    sig1 += noise_amp * np.random.rand(sig_len)\n",
    "    sig2 += noise_amp * np.random.rand(sig_len)\n",
    "        \n",
    "    X_df.loc[idx,'sig1'] = sig1\n",
    "    X_df.loc[idx,'sig2'] = sig2\n",
    "    X_df.loc[idx,'delay'] = delay\n",
    "    y.append(delay)\n",
    "\n",
    "X_train_df = X_df.loc[:499]\n",
    "X_test_df = X_df.loc[500:]\n",
    "y_train = np.array(y[:500])\n",
    "y_test = np.array(y[500:])\n",
    "\n",
    "ic(X_df.shape, len(y))\n",
    "ic(X_train_df.shape, y_train.shape)\n",
    "ic(X_test_df.shape, y_test.shape);"
   ]
  },
  {
   "cell_type": "code",
   "execution_count": null,
   "metadata": {},
   "outputs": [],
   "source": [
    "minirocket = MiniRocketMultivariate()\n",
    "minirocket.fit(X_train_df[['sig1', 'sig2']])\n",
    "X_train_transform = minirocket.transform(X_train_df[['sig1', 'sig2']])\n",
    "print(\"Notice the number of features output (per input sequence) by the transformer:\", X_train_transform.shape)\n",
    "\n",
    "regressor = RidgeCV()\n",
    "regressor.fit(X_train_transform, y_train)\n",
    "\n",
    "X_test_transform = minirocket.transform(X_test_df[['sig1', 'sig2']])\n",
    "reg_score = regressor.score(X_test_transform, y_test)\n",
    "regression_score_str = \"{:.3f}\".format(reg_score)\n",
    "print(\"MiniRocket regression score:\", regression_score_str)\n",
    "\n",
    "# Again, form the error vector, then calculate its mean absolute deviation per sample.\n",
    "error_vec = y_test - regressor.predict(X_test_transform)\n",
    "mad_per_samp = norm(error_vec, 1)/ len(error_vec)\n",
    "mad_per_samp_str = \"{:.3f}\".format(1000*mad_per_samp)\n",
    "print(\"Mean absolute deviation per sample:\", mad_per_samp_str, \"msec\")"
   ]
  },
  {
   "cell_type": "code",
   "execution_count": null,
   "metadata": {},
   "outputs": [],
   "source": []
  }
 ],
 "metadata": {
  "kernelspec": {
   "display_name": "Python 3",
   "language": "python",
   "name": "python3"
  },
  "language_info": {
   "codemirror_mode": {
    "name": "ipython",
    "version": 3
   },
   "file_extension": ".py",
   "mimetype": "text/x-python",
   "name": "python",
   "nbconvert_exporter": "python",
   "pygments_lexer": "ipython3",
   "version": "3.8.3"
  }
 },
 "nbformat": 4,
 "nbformat_minor": 4
}
