{
 "cells": [
  {
   "cell_type": "markdown",
   "metadata": {},
   "source": [
    "<h1> Summer 2021 ML Course</h1>\n",
    "<h2> Matlab Data Import</h2>"
   ]
  },
  {
   "cell_type": "code",
   "execution_count": 1,
   "metadata": {},
   "outputs": [
    {
     "name": "stdout",
     "output_type": "stream",
     "text": [
      "Python 3.8.3\n"
     ]
    }
   ],
   "source": [
    "!python --version\n",
    "import numpy as np\n",
    "import pandas as pd\n",
    "import scipy.io as sio"
   ]
  },
  {
   "cell_type": "code",
   "execution_count": 2,
   "metadata": {},
   "outputs": [
    {
     "name": "stdout",
     "output_type": "stream",
     "text": [
      "            f_cent   t_start  t_duration          f_bw      power\n",
      "\n",
      "[5906 rows x 5 columns]\n"
     ]
    }
   ],
   "source": [
    "matlab_fn = 'Simulator_output.mat'\n",
    "\n",
    "# Load the .mat file (squeeze_me=True removes unneeded singleton dimensions).\n",
    "file_contents = sio.loadmat(matlab_fn, squeeze_me=True, simplify_cells=True, mdict={})\n",
    "raw_data = file_contents['PDWsAfterAntennaPeriod']\n",
    "data_slice = raw_data[0]\n",
    "\n",
    "obj_df = pd.DataFrame()\n",
    "obj_df['f_cent'] = data_slice['freq']\n",
    "obj_df['t_start'] = data_slice['TOA']\n",
    "obj_df['t_duration'] = data_slice['PW']\n",
    "obj_df['f_bw'] = data_slice['BW']\n",
    "obj_df['power'] = data_slice['power']\n",
    "print(obj_df)"
   ]
  },
  {
   "cell_type": "code",
   "execution_count": null,
   "metadata": {},
   "outputs": [],
   "source": []
  }
 ],
 "metadata": {
  "kernelspec": {
   "display_name": "Python 3",
   "language": "python",
   "name": "python3"
  },
  "language_info": {
   "codemirror_mode": {
    "name": "ipython",
    "version": 3
   },
   "file_extension": ".py",
   "mimetype": "text/x-python",
   "name": "python",
   "nbconvert_exporter": "python",
   "pygments_lexer": "ipython3",
   "version": "3.8.3"
  }
 },
 "nbformat": 4,
 "nbformat_minor": 4
}
