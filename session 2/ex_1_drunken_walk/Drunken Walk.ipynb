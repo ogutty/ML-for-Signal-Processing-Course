{
 "cells": [
  {
   "cell_type": "markdown",
   "metadata": {},
   "source": [
    "<img src=\"Electronic_Brain.png\" width=\"200\" style=\"float:left\">\n",
    "<h1> Summer 2021 ML Course.</h1>\n",
    "<h2> Exercise 1: Drunken Walk<br>Tools: Numpy</h2>"
   ]
  },
  {
   "cell_type": "code",
   "execution_count": 2,
   "metadata": {},
   "outputs": [],
   "source": [
    "import numpy as np\n",
    "import random"
   ]
  },
  {
   "cell_type": "markdown",
   "metadata": {},
   "source": [
    "<img src=\"Roni_Roshbakir.png\" width=\"36\" style=\"float:left\">\n",
    "<h2>&nbsp; Ronni Roshbakir's solution:</h2>\n",
    "<br>&nbsp;&nbsp; Implement the drunken walk using pure Python code."
   ]
  },
  {
   "cell_type": "code",
   "execution_count": 3,
   "metadata": {},
   "outputs": [
    {
     "name": "stdout",
     "output_type": "stream",
     "text": [
      "Wall time: 933 ms\n"
     ]
    }
   ],
   "source": [
    "# Ronni Roshbakir's solution: pure Python code.\n",
    "# Starting at position 0, simulate n drunk moves, all in {-1, +1}.\n",
    "def random_walk_pure_python(n):\n",
    "    position = 0\n",
    "    walk = [position]  # This list will hold our random walk.\n",
    "    for i in range(n):\n",
    "        position += 2*random.randint(0,1) - 1\n",
    "        walk.append(position)\n",
    "    return walk\n",
    "\n",
    "%time ronni_walk = random_walk_pure_python(1000000)"
   ]
  },
  {
   "cell_type": "markdown",
   "metadata": {},
   "source": [
    "<img src=\"Batya_Bingo.png\" width=\"60\" style=\"float:left\">\n",
    "<h2>&nbsp; Bayta Bingo's solution:</h2><br>\n",
    "Can you beat Ronni's solution by using vectorized Numpy?<br>\n",
    "Batya Bingo's solution: use np.random.choice() and np.cumsum()."
   ]
  },
  {
   "cell_type": "code",
   "execution_count": 4,
   "metadata": {},
   "outputs": [
    {
     "name": "stdout",
     "output_type": "stream",
     "text": [
      "Wall time: 15 ms\n"
     ]
    }
   ],
   "source": [
    "# Batya Bingo's solution.\n",
    "def random_walk_vectorized(n):\n",
    "    # Please help Batya!\n",
    "\n",
    "%time batya_walk = random_walk_vectorized(1000000)"
   ]
  },
  {
   "cell_type": "code",
   "execution_count": null,
   "metadata": {},
   "outputs": [],
   "source": []
  }
 ],
 "metadata": {
  "kernelspec": {
   "display_name": "Python 3",
   "language": "python",
   "name": "python3"
  },
  "language_info": {
   "codemirror_mode": {
    "name": "ipython",
    "version": 3
   },
   "file_extension": ".py",
   "mimetype": "text/x-python",
   "name": "python",
   "nbconvert_exporter": "python",
   "pygments_lexer": "ipython3",
   "version": "3.8.3"
  }
 },
 "nbformat": 4,
 "nbformat_minor": 4
}
