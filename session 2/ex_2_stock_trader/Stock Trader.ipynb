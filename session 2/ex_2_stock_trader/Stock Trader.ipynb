{
 "cells": [
  {
   "cell_type": "markdown",
   "metadata": {},
   "source": [
    "<img src=\"Electronic_Brain.png\" width=\"200\" style=\"float:left\">\n",
    "<h1> Summer 2021 ML Course.</h1>\n",
    "<h2> Exercise 2: Stock Trader<br>Tools: Numpy, Matplotlib</h2>"
   ]
  },
  {
   "cell_type": "code",
   "execution_count": 12,
   "metadata": {},
   "outputs": [],
   "source": [
    "import numpy as np\n",
    "import matplotlib\n",
    "import matplotlib.pyplot as plt\n",
    "import random"
   ]
  },
  {
   "cell_type": "markdown",
   "metadata": {},
   "source": [
    "<img src=\"desktop-computer-icon.png\" width=\"40\" style=\"float:left\">\n",
    "<h1>&nbsp;Signal Generation</h1>\n",
    "<br>Given a stock's price history, assume we are only allowed one purchase and one sale.<br>Our job: find the maximum profit potential!"
   ]
  },
  {
   "cell_type": "code",
   "execution_count": 13,
   "metadata": {},
   "outputs": [],
   "source": [
    "# Create a semi-realistic prices array.\n",
    "# Start off with a mostly NaN array with a few 'turning points' (local min/max).\n",
    "prices = np.full(5000, fill_value=np.nan)\n",
    "prices[[0, 1250, 3000, -1]] = [80., 30., 75., 50.]"
   ]
  },
  {
   "cell_type": "code",
   "execution_count": 14,
   "metadata": {},
   "outputs": [],
   "source": [
    "# Linearly interpolate the missing values and add some noise.\n",
    "# --- NOTICE how the turning (valid) points are selected and all others are interpolated.\n",
    "x = np.arange(len(prices))\n",
    "is_valid = ~np.isnan(prices)                                  # Only look at valid numbers.\n",
    "prices = np.interp(x=x, xp=x[is_valid], fp=prices[is_valid])  # Interpolate between them.\n",
    "prices += np.random.randn(len(prices)) * 2                    # Add normally distributed noise."
   ]
  },
  {
   "cell_type": "code",
   "execution_count": 15,
   "metadata": {},
   "outputs": [
    {
     "data": {
      "image/png": "[encoded data removed]",
      "text/plain": [
       "<Figure size 432x288 with 1 Axes>"
      ]
     },
     "metadata": {
      "needs_background": "light"
     },
     "output_type": "display_data"
    }
   ],
   "source": [
    "fig, ax = plt.subplots()\n",
    "ax.plot(x, prices)\n",
    "ax.set(xlabel='day', ylabel='price', title='Stock prices');"
   ]
  },
  {
   "cell_type": "markdown",
   "metadata": {},
   "source": [
    "<img src=\"Roni_Roshbakir.png\" width=\"36\" style=\"float:left\">\n",
    "<h2>&nbsp; Ronni Roshbakir's solution: check each pair.</h2>"
   ]
  },
  {
   "cell_type": "code",
   "execution_count": 16,
   "metadata": {},
   "outputs": [
    {
     "name": "stdout",
     "output_type": "stream",
     "text": [
      "Wall time: 3.21 s\n",
      "Naive profit: 53.96636627570963\n"
     ]
    }
   ],
   "source": [
    "# Ronni Roshbakir's solution: check each pair.\n",
    "def naive_profit(prices):\n",
    "    xmin = xmax = pmin = pmin = max_profit = -1\n",
    "    for i in range(len(prices)):\n",
    "        for j in range(i):\n",
    "            if prices[i] - prices[j] > max_profit:\n",
    "                xmin=j\n",
    "                xmax=i\n",
    "                pmin=prices[j]\n",
    "                pmax=prices[i]\n",
    "                max_profit = prices[i] - prices[j]\n",
    "    return xmin, xmax, pmin, pmax, max_profit\n",
    "\n",
    "%time xmin, xmax, pmin, pmax, max_profit = naive_profit(prices)\n",
    "print(\"Naive profit:\", max_profit)"
   ]
  },
  {
   "cell_type": "markdown",
   "metadata": {},
   "source": [
    "<img src=\"Batya_Bingo.png\" width=\"60\" style=\"float:left\">\n",
    "<h2>&nbsp; Bayta Bingo's solution:</h2><br>\n",
    "Use Numpy's accumulate() method, useful for calculating cumulative sums / mins."
   ]
  },
  {
   "cell_type": "code",
   "execution_count": 17,
   "metadata": {},
   "outputs": [],
   "source": [
    "# Batya Bingo's solution.\n",
    "# Use Numpy's accumulate() method, useful for calculating cumulative sums / mins.\n",
    "# WARNING: solution assumes global minimum reached before global max,\n",
    "# in real life we should check the other option as well!\n",
    "def numpy_profit(prices):\n",
    "    # Please help Batya!\n",
    "    return(0)"
   ]
  },
  {
   "cell_type": "code",
   "execution_count": 18,
   "metadata": {},
   "outputs": [
    {
     "name": "stdout",
     "output_type": "stream",
     "text": [
      "125 ns ± 2.77 ns per loop (mean ± std. dev. of 7 runs, 100 loops each)\n",
      "Max profit: 53.96636627570963\n"
     ]
    }
   ],
   "source": [
    "# Run the function 100 times to profile the running time.\n",
    "%timeit -n 100 max_profit = numpy_profit(prices)\n",
    "print(\"Max profit:\", max_profit)"
   ]
  },
  {
   "cell_type": "code",
   "execution_count": null,
   "metadata": {},
   "outputs": [],
   "source": []
  }
 ],
 "metadata": {
  "kernelspec": {
   "display_name": "Python 3",
   "language": "python",
   "name": "python3"
  },
  "language_info": {
   "codemirror_mode": {
    "name": "ipython",
    "version": 3
   },
   "file_extension": ".py",
   "mimetype": "text/x-python",
   "name": "python",
   "nbconvert_exporter": "python",
   "pygments_lexer": "ipython3",
   "version": "3.8.3"
  }
 },
 "nbformat": 4,
 "nbformat_minor": 4
}
