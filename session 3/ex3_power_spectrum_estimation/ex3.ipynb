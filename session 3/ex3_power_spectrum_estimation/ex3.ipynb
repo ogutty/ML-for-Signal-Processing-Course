{
 "cells": [
  {
   "cell_type": "markdown",
   "metadata": {},
   "source": [
    "<img src=\"Electronic_Brain.png\" width=\"200\" style=\"float:left\">\n",
    "<h1> Summer 2021 ML Course.</h1>\n",
    "<h2> Exercise 3: PSD Estimation on Non-regularly Sampled Data<br>Tools: Numpy, SciPy</h2>"
   ]
  },
  {
   "cell_type": "code",
   "execution_count": null,
   "metadata": {},
   "outputs": [],
   "source": [
    "import numpy as np\n",
    "import scipy.interpolate as interp\n",
    "import scipy.signal as signal\n",
    "import matplotlib as plt\n",
    "import matplotlib.pyplot as plt"
   ]
  },
  {
   "cell_type": "code",
   "execution_count": null,
   "metadata": {},
   "outputs": [],
   "source": [
    "# Set chart defaults.\n",
    "plt.rcParams['figure.figsize'] = [12, 5]"
   ]
  },
  {
   "cell_type": "code",
   "execution_count": null,
   "metadata": {},
   "outputs": [],
   "source": [
    "# Additive white Gaussian noise.\n",
    "def awgn(y, snr_db):\n",
    "    snr = 10 ** (-snr_db / 10.0)\n",
    "    xpower = np.sum(y ** 2) / len(y)\n",
    "    npower = xpower / snr\n",
    "    return(np.random.randn(len(y)) * np.sqrt(npower) + y)"
   ]
  },
  {
   "cell_type": "code",
   "execution_count": null,
   "metadata": {},
   "outputs": [],
   "source": [
    "# ----------------------------------------------------------------------------\n",
    "# The original function is a sum of sinusoids (frequencies given in sin_freqs).\n",
    "# The function returns a bunch of uneven but clean samples.\n",
    "# ----------------------------------------------------------------------------\n",
    "def base_sig(sin_freqs, samp_comb):\n",
    "    sig = np.zeros(len(samp_comb))\n",
    "    for freq in sin_freqs:\n",
    "        sig += np.cos(2*np.pi * freq * samp_comb)\n",
    "    return(sig)"
   ]
  },
  {
   "cell_type": "code",
   "execution_count": null,
   "metadata": {},
   "outputs": [],
   "source": [
    "sin_freqs = [10, 20, 50]            # In Hz.\n",
    "samp_freq = 200                     # In Hz.\n",
    "num_samps = 1024\n",
    "\n",
    "# Define a sampling comb, use it to obtain a clean signal, then add noise.\n",
    "samp_comb = num_samps / samp_freq * np.random.rand(num_samps)\n",
    "samp_comb = np.sort(samp_comb)  # Get the comb sorted.\n",
    "clean_sig = base_sig(sin_freqs, samp_comb)\n",
    "messy_sig = awgn(clean_sig, 10) # Add 10dB of white noise."
   ]
  },
  {
   "cell_type": "markdown",
   "metadata": {
    "tags": []
   },
   "source": [
    "<img src=\"Roni_Roshbakir.png\" width=\"36\" style=\"float:left; margin-right: 10px;\">\n",
    "</br>Watch Roni estimate the spectrum while ignoring the timestamps (via matplotlib's psd() with an FFT of length 512).</br>"
   ]
  },
  {
   "cell_type": "code",
   "execution_count": null,
   "metadata": {
    "tags": []
   },
   "outputs": [],
   "source": [
    "fig, axs = plt.subplots(1,2, sharey=True)\n",
    "axs[0].psd(clean_sig, NFFT=512, Fs=samp_freq)\n",
    "axs[0].set(xlabel='Freq. [Hz]', title='Clean Signal')\n",
    "axs[1].psd(messy_sig, NFFT=512, Fs=samp_freq)\n",
    "axs[1].set(xlabel='Freq. [Hz]', title='Messy Signal')\n",
    "plt.suptitle(\"RoshBakir Solution\");"
   ]
  },
  {
   "cell_type": "markdown",
   "metadata": {
    "tags": []
   },
   "source": [
    "<img src=\"desktop-computer-icon.png\" width=\"90\" style=\"float:left; margin-right: 10px;\">\n",
    "<img src=\"Motti_Mithakem.png\" width=\"60\" style=\"float:left; margin-right: 10px;\">\n",
    "</br>Please Help Motti estimate the spectrum via linear interpolation (hint: np.interp()).</br>"
   ]
  },
  {
   "cell_type": "code",
   "execution_count": null,
   "metadata": {},
   "outputs": [],
   "source": [
    "# Motti's solution: set up a uniform and (optionally) up-sampled comb, interpolate the signal onto it.\n",
    "upsample_factor = 1\n",
    "interp_comb = np.linspace(0.01, max(samp_comb), num_samps * upsample_factor)\n",
    "interp_clean_sig = # INSERT LINE HERE: calculate the clean signal's interpolation.\n",
    "interp_messy_sig = # INSERT LINE HERE: calculate the messy signal's interpolation."
   ]
  },
  {
   "cell_type": "code",
   "execution_count": null,
   "metadata": {
    "tags": []
   },
   "outputs": [],
   "source": [
    "fig, axs = plt.subplots(1,2, sharey=True)\n",
    "axs[0].psd(interp_clean_sig, NFFT=512, Fs=samp_freq * upsample_factor)\n",
    "axs[0].set(xlabel='Freq. [Hz]', title='Clean Signal')\n",
    "axs[1].psd(interp_messy_sig, NFFT=512, Fs=samp_freq * upsample_factor)\n",
    "axs[1].set(xlabel='Freq. [Hz]', title='Messy Signal')\n",
    "plt.suptitle(\"Motty Solution\");"
   ]
  },
  {
   "cell_type": "markdown",
   "metadata": {},
   "source": [
    "<img src=\"desktop-computer-icon.png\" width=\"90\" style=\"float:left; margin-right: 10px;\">\n",
    "<img src=\"Batya_Bingo.png\" width=\"80\" style=\"float:left; margin-right: 10px;\">\n",
    "</br>Please Help Batya optimally estimate the spectrum via a Lomb-Scargle periodogram (hint: scipy.signal.lombscargle())."
   ]
  },
  {
   "cell_type": "code",
   "execution_count": null,
   "metadata": {},
   "outputs": [],
   "source": [
    "# Define array of freqs on which we estimate the periodogram:\n",
    "lomb_freqs = 2 * np.pi * np.linspace(0.01, 100, 1000)\n",
    "clean_pgram = # INSERT LINE HERE: calculate the clean signal's periodogram.\n",
    "messy_pgram = # INSERT LINE HERE: calculate the messy signal's periodogram."
   ]
  },
  {
   "cell_type": "code",
   "execution_count": null,
   "metadata": {},
   "outputs": [],
   "source": [
    "fig, axs = plt.subplots(1,2, sharey=True)\n",
    "axs[0].plot(lomb_freqs / (2*np.pi), clean_pgram)\n",
    "axs[0].set(xlabel='Freq. [Hz]', ylabel='PSD', title='Clean Signal')\n",
    "axs[1].plot(lomb_freqs / (2*np.pi), messy_pgram)\n",
    "axs[1].set(xlabel='Freq. [Hz]', title='Messy Signal');"
   ]
  },
  {
   "cell_type": "code",
   "execution_count": null,
   "metadata": {},
   "outputs": [],
   "source": []
  }
 ],
 "metadata": {
  "kernelspec": {
   "display_name": "Python 3",
   "language": "python",
   "name": "python3"
  },
  "language_info": {
   "codemirror_mode": {
    "name": "ipython",
    "version": 3
   },
   "file_extension": ".py",
   "mimetype": "text/x-python",
   "name": "python",
   "nbconvert_exporter": "python",
   "pygments_lexer": "ipython3",
   "version": "3.8.3"
  }
 },
 "nbformat": 4,
 "nbformat_minor": 4
}
