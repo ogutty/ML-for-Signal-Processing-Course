{
 "cells": [
  {
   "cell_type": "markdown",
   "metadata": {},
   "source": [
    "###### <img src=\"Electronic_Brain.png\" width=\"200\" style=\"float:left\">\n",
    "<h1> Spring 2021 ML Course.</h1>\n",
    "<h2> Exercise 6: Feature Extraction, Linear Regression<br> Tools: Numpy, Pandas, Scikit-Learn, Optuna</h2>"
   ]
  },
  {
   "cell_type": "code",
   "execution_count": null,
   "metadata": {},
   "outputs": [],
   "source": [
    "!python --version\n",
    "import math\n",
    "import numpy as np\n",
    "import pandas as pd\n",
    "import matplotlib as plt\n",
    "import matplotlib.pyplot as plt\n",
    "from random import gauss, randint\n",
    "from sklearn.linear_model import LinearRegression\n",
    "from icecream import ic"
   ]
  },
  {
   "cell_type": "code",
   "execution_count": null,
   "metadata": {},
   "outputs": [],
   "source": [
    "# Home-grown scripts & libraries.\n",
    "from stock_utils import rollout, generate_stock_prices"
   ]
  },
  {
   "cell_type": "code",
   "execution_count": null,
   "metadata": {},
   "outputs": [],
   "source": [
    "# Set a few defaults.\n",
    "rand_seed = 100\n",
    "np.random.seed(rand_seed)\n",
    "pd.set_option('display.precision', 3)\n",
    "plt.rcParams['figure.figsize'] = [15, 5]"
   ]
  },
  {
   "cell_type": "markdown",
   "metadata": {},
   "source": [
    "<img src=\"desktop-computer-icon.png\" width=\"90\" style=\"float:left; margin-right: 10px;\">\n",
    "<h1> &nbsp; Section A: Signal Generation.</h1>"
   ]
  },
  {
   "cell_type": "code",
   "execution_count": null,
   "metadata": {},
   "outputs": [],
   "source": [
    "# The two stocks share the same Brownian params but the regimes are of random duration.\n",
    "# Each regime is 20 to 40 days in length.\n",
    "# We always start off with an UP leg.\n",
    "return_params = []\n",
    "daily_up_gain = 1.007    # Daily gain on UP legs is 0.7% on average.\n",
    "daily_down_gain = 0.996  # Daily loss on DOWN legs is 0.4% on average.\n",
    "daily_std = 0.01         # Daily STD is 1%.\n",
    "for _ in range(10):\n",
    "    return_params.append([daily_up_gain, daily_std, randint(20, 40)])\n",
    "    return_params.append([daily_down_gain, daily_std, randint(20, 40)])\n",
    "# ic(return_params)\n",
    "\n",
    "regime_lengths = np.array([rp[2] for rp in return_params])\n",
    "regime_start_days = np.cumsum(regime_lengths)\n",
    "# ic(regime_start_days)\n",
    "\n",
    "# Apple's stock is delayed by 5 days.\n",
    "prices_df = generate_stock_prices(return_params, 5, 'AAPL', seed=111)\n",
    "# AUX_0 is in phase with the market (and therefore 5 days ahead of AAPL).\n",
    "aux_df = generate_stock_prices(return_params, 0, 'AUX_0', seed=222)\n",
    "\n",
    "prices_df = pd.merge(prices_df, aux_df['AUX_0'], left_index=True, right_index=True, how='outer')\n",
    "prices_df.head() # Show a few rows."
   ]
  },
  {
   "cell_type": "code",
   "execution_count": null,
   "metadata": {},
   "outputs": [],
   "source": [
    "# Take a look at the set of all variables.\n",
    "%whos"
   ]
  },
  {
   "cell_type": "code",
   "execution_count": null,
   "metadata": {},
   "outputs": [],
   "source": [
    "# Take a look (only) at the Numpy arrays.\n",
    "%whos ndarray"
   ]
  },
  {
   "cell_type": "code",
   "execution_count": null,
   "metadata": {
    "tags": []
   },
   "outputs": [],
   "source": [
    "# TRY both linear and semi-logarithmic plots!\n",
    "fig, ax = plt.subplots()\n",
    "ax.plot(prices_df['AAPL'], label='AAPL')\n",
    "ax.plot(prices_df['AUX_0'], label='AUX_0')\n",
    "# A semi-logarithmic axis is more informative: shows percent rather than absolute price moves.\n",
    "# ax.semilogy(prices_df['AAPL'], label='AAPL')\n",
    "# ax.semilogy(prices_df['AUX_0'], label='AUX_0')\n",
    "\n",
    "# Show the actual regime transition days.\n",
    "for regime_start_day in regime_start_days:\n",
    "    ax.axvline(regime_start_day, linestyle=':')\n",
    "\n",
    "ax.set(xlabel='Day Seq. Number', title='Stock Prices (note how AUX_0 coincides with the regimes while AAPL lags)');\n",
    "plt.legend();"
   ]
  },
  {
   "cell_type": "code",
   "execution_count": null,
   "metadata": {},
   "outputs": [],
   "source": [
    "# Create \"oracle\" predictions: buy at the beginning of each UP leg, sell when it ends.\n",
    "# The predictions will be zeros everywhere, with 1's on BUY days, -1's on SELL days.\n",
    "# Since we are trading AAPL, we delay the \"oracle\" by 5 days.\n",
    "oracle_preds = [0] * len(prices_df)  # Note this creates a list [0,0,...,0] of length len(prices_df).\n",
    "oracle_preds[0] = 1                  # Start the list with a 1 (which means buy AAPL on the first day).\n",
    "next_pred = -1\n",
    "aapl_delay = 5\n",
    "for ind in regime_start_days:\n",
    "    oracle_preds[ind + aapl_delay] = next_pred\n",
    "    next_pred *= -1\n",
    "\n",
    "# Simulate our oracle predictions.\n",
    "trades, days_in_market, reward = rollout(prices_df['AAPL'].to_list(), oracle_preds, buy_thresh=0.5, sell_thresh=-0.5)\n",
    "reward_per_day = reward / days_in_market\n",
    "ic(reward, days_in_market, reward_per_day)  # Use ic() to print out vars.\n",
    "ic(trades);"
   ]
  },
  {
   "cell_type": "markdown",
   "metadata": {},
   "source": [
    "<img src=\"desktop-computer-icon.png\" width=\"90\" style=\"float:left; margin-right: 10px;\">\n",
    "<h1> &nbsp; Section B: Feature & Target Extraction and Visualization</h1>"
   ]
  },
  {
   "cell_type": "code",
   "execution_count": null,
   "metadata": {},
   "outputs": [],
   "source": [
    "# Generate a few features via rolling means.\n",
    "prices_df['AAPL_back_mean_10'] = prices_df['AAPL'].rolling(10, min_periods=10).mean()\n",
    "prices_df['AAPL_back_gain_10'] = prices_df['AAPL'].divide(prices_df['AAPL_back_mean_10'])\n",
    "\n",
    "prices_df['AUX_0_back_mean_10'] = prices_df['AUX_0'].rolling(10, min_periods=10).mean()\n",
    "prices_df['AUX_0_back_gain_10'] = prices_df['AUX_0'].divide(prices_df['AUX_0_back_mean_10'])"
   ]
  },
  {
   "cell_type": "code",
   "execution_count": null,
   "metadata": {},
   "outputs": [],
   "source": [
    "# Generate a \"target\" score via a rolling forward mean.\n",
    "indexer = pd.api.indexers.FixedForwardWindowIndexer(window_size=10)\n",
    "prices_df['AAPL_forw_mean_10'] = prices_df['AAPL'].rolling(window=indexer, min_periods=10).mean()\n",
    "# Define our target (score) as the ratio between the forward mean and the current price.\n",
    "prices_df['AAPL_forw_score_10'] = prices_df['AAPL_forw_mean_10'].divide(prices_df['AAPL'])"
   ]
  },
  {
   "cell_type": "code",
   "execution_count": null,
   "metadata": {
    "tags": []
   },
   "outputs": [],
   "source": [
    "fig, ax = plt.subplots()\n",
    "ax.plot(prices_df['AAPL'], label='AAPL')\n",
    "ax.plot(prices_df['AAPL_back_mean_10'], label='AAPL 10-day (backward) rolling mean')\n",
    "ax.plot(prices_df['AAPL_forw_mean_10'], label='AAPL 10-day (forward) rolling score')\n",
    "ax.set(xlabel='Day Seq. Number', title='AAPL Stock Prices');\n",
    "plt.legend();"
   ]
  },
  {
   "cell_type": "code",
   "execution_count": null,
   "metadata": {},
   "outputs": [],
   "source": [
    "# Show the correlations between the two stocks' gains and AAPL's forward score\n",
    "prices_df[['AUX_0_back_gain_10','AAPL_back_gain_10', 'AAPL_forw_score_10']].corr()"
   ]
  },
  {
   "cell_type": "code",
   "execution_count": null,
   "metadata": {},
   "outputs": [],
   "source": [
    "plt.rcParams['figure.figsize'] = [15, 6]\n",
    "fig, axes = plt.subplots(nrows=1, ncols=2)\n",
    "prices_df.plot.scatter(x=\"AAPL_back_gain_10\", y=\"AAPL_forw_score_10\", ax=axes[0], title='Scatter plots');\n",
    "prices_df.plot.scatter(x=\"AUX_0_back_gain_10\", y=\"AAPL_forw_score_10\", ax=axes[1]);"
   ]
  },
  {
   "cell_type": "code",
   "execution_count": null,
   "metadata": {},
   "outputs": [],
   "source": [
    "fig, axes = plt.subplots(nrows=1, ncols=2)\n",
    "prices_df.plot.hexbin(x=\"AAPL_back_gain_10\", y=\"AAPL_forw_score_10\", gridsize=25, ax=axes[0], title='Hexbin plots');\n",
    "prices_df.plot.hexbin(x=\"AUX_0_back_gain_10\", y=\"AAPL_forw_score_10\", gridsize=25, ax=axes[1]);"
   ]
  },
  {
   "cell_type": "markdown",
   "metadata": {},
   "source": [
    "<img src=\"Electronic_Brain.png\" width=\"140\" style=\"float:left; margin-right: 1px;\">\n",
    "<h1>Section C: Semi-Optimal Controller: Calculation & Simulation.</h1><br><br><br>\n",
    "In this section we will create a <em>baseline</em> buy / sell rule.</br>\n",
    "Using AAPL / AUX_0 historical data, find the points in time for which w.p. >95% a regime change has occured, using (only) 10-day histories.  \n",
    "In the calculations we ignore the fact that percent changes are not additive (negligible for small numbers).  \n",
    "We also ignore the alternative hypothesis (namely of a DOWN regime producing a positive sum).\n",
    "\n",
    "<p> Assume we have access to (only) the 10-day gains.\n",
    "Construct a \"95%\" buy / sell rule, based on our knowledge of the underlying process and params. The controller should switch from its current (LONG / NEUT) position when it calculates a 95% probability of having observed a regime change.</p>"
   ]
  },
  {
   "cell_type": "markdown",
   "metadata": {},
   "source": [
    "**Solution**:\n",
    "We present the calculation for an UP leg.  \n",
    "The sum of 10 $\\bf{independent}$ $(\\mu, \\sqrt{\\sigma^2})$-distributed random vars is a $(10 \\mu, \\sqrt{10 \\sigma^2})$-distributed normal variable.  \n",
    "Calling it $X$, we can calculate the probability of it obtaining a negative value on any given day by via the error function:  \n",
    "$\\Pr[X<=0] = 1/2 + 1/2*\\text{erf}\\left( \\frac{-10\\mu}{\\sqrt{2\\times10\\:}\\:\\times\\sigma} \\right) =\n",
    "1/2 + 1/2*\\text{erf}\\left( \\frac{-0.07}{\\sqrt{20\\:} \\: \\times \\: 0.01} \\right) \\approx 3\\%$.\n",
    "\n",
    "For the 95% probability calculation we have, similarly:  \n",
    "$\\Pr[X<=L] = 1/2 + 1/2*\\text{erf}\\left( \\frac{L - 10\\mu}{\\sqrt{2\\times10 \\:} \\: \\times\\sigma} \\right)$.  \n",
    "\n",
    "Setting the right-hand side of the equation to 0.05, we want the error function to evaluate to -0.9, which via lookup table sets its argument at $\\approx -0.8$. Solving, we find a 95% probability for a 10-day return above approx. 4%.  A similar calculation for DOWN regimes places the 95% probability at a loss of approx. 1%."
   ]
  },
  {
   "cell_type": "code",
   "execution_count": null,
   "metadata": {},
   "outputs": [],
   "source": [
    "entry_threshold = 1.04\n",
    "exit_threshold = 0.99"
   ]
  },
  {
   "cell_type": "code",
   "execution_count": null,
   "metadata": {
    "tags": []
   },
   "outputs": [],
   "source": [
    "# Implement the 95%-optimal controller using only AAPL's historical gains.\n",
    "# Use it to measure simulated profit via rollout().\n",
    "# Again, predictions zeros everywhere, with 1's on BUY days, -1's on SELL days.\n",
    "entry_mask = prices_df['AAPL_back_gain_10'] > entry_threshold\n",
    "exit_mask = prices_df['AAPL_back_gain_10'] < exit_threshold\n",
    "prices_df['semi_opt_aapl'] = 0\n",
    "prices_df.loc[entry_mask, 'semi_opt_aapl'] = 1\n",
    "prices_df.loc[exit_mask, 'semi_opt_aapl'] = -1"
   ]
  },
  {
   "cell_type": "code",
   "execution_count": null,
   "metadata": {},
   "outputs": [],
   "source": [
    "# Simulate the semi-optimal predictions.\n",
    "trades, days_in_market, reward = rollout(prices_df['AAPL'].to_list(),\n",
    "                                         prices_df['semi_opt_aapl'].to_list(),\n",
    "                                         buy_thresh=0.5, sell_thresh=-0.5)\n",
    "reward_per_day = reward / days_in_market\n",
    "ic(reward, days_in_market, reward_per_day);"
   ]
  },
  {
   "cell_type": "code",
   "execution_count": null,
   "metadata": {},
   "outputs": [],
   "source": [
    "# Implement the 95%-optimal controller using only AUX_0's historical gains.\n",
    "# Use it to measure simulated profit via rollout().\n",
    "# Again, predictions zeros everywhere, with 1's on BUY days, -1's on SELL days.\n",
    "entry_mask = prices_df['AUX_0_back_gain_10'] > entry_threshold\n",
    "exit_mask = prices_df['AUX_0_back_gain_10'] < exit_threshold\n",
    "prices_df['semi_opt_aux0'] = 0\n",
    "prices_df.loc[entry_mask, 'semi_opt_aux0'] = 1\n",
    "prices_df.loc[exit_mask, 'semi_opt_aux0'] = -1\n",
    "# Simulate the semi-optimal predictions.\n",
    "trades, days_in_market, reward = rollout(prices_df['AAPL'].to_list(),\n",
    "                                         prices_df['semi_opt_aux0'].to_list(),\n",
    "                                         buy_thresh=0.5, sell_thresh=-0.5)\n",
    "reward_per_day = reward / days_in_market\n",
    "ic(reward, days_in_market, reward_per_day);"
   ]
  },
  {
   "cell_type": "markdown",
   "metadata": {},
   "source": [
    "<img src=\"desktop-computer-icon.png\" width=\"90\" style=\"float:left; margin-right: 10px;\">\n",
    "<h1> &nbsp; Section D: Linear Regression Using Scikit-Learn</h1><br><br>\n",
    "We proceed to model the rolling 10-day forward gain via linear regression, using <em>both</em> AAPL's and AUX_0's historical prices in a single model."
   ]
  },
  {
   "cell_type": "code",
   "execution_count": null,
   "metadata": {},
   "outputs": [],
   "source": [
    "# Prepare a \"clean\" dataset by dropping all rows with missing data.\n",
    "# NOTICE: we first create a copy, then use dropna() to drop rows with missing data.\n",
    "clean_df = prices_df[['AUX_0_back_gain_10', 'AAPL_back_gain_10', 'AAPL_forw_score_10']].copy()\n",
    "clean_df.dropna(inplace=True)\n",
    "X = clean_df[['AUX_0_back_gain_10', 'AAPL_back_gain_10']]\n",
    "\n",
    "# Create continuous and discrete target variables.\n",
    "y_cont = clean_df['AAPL_forw_score_10']\n",
    "y_disc = clean_df['AAPL_forw_score_10']>1"
   ]
  },
  {
   "cell_type": "code",
   "execution_count": null,
   "metadata": {},
   "outputs": [],
   "source": [
    "# Train a linear regressor on the continuous target.\n",
    "reg = LinearRegression()\n",
    "reg.fit(X, y_cont)\n",
    "# NOTICE: when we predict we keep the resulting index to avoid confusion later!\n",
    "y_cont_pred = pd.Series(reg.predict(X), index=X.index)"
   ]
  },
  {
   "cell_type": "code",
   "execution_count": null,
   "metadata": {},
   "outputs": [],
   "source": [
    "# Show the linear regression's output.\n",
    "sell_thresh = 0.995\n",
    "buy_thresh = 1.005\n",
    "fig, ax = plt.subplots()\n",
    "ax2 = ax.twinx() # Instantiate a second axes sharing the same x-axis.\n",
    "ax.plot(prices_df['AAPL'], label='AAPL')\n",
    "ax2.plot(y_cont_pred, label='linear regression (10-day MA score)', color='orange')\n",
    "ax2.hlines(1, y_cont_pred.index.min(), y_cont_pred.index.max(), color='red')\n",
    "ax2.hlines(buy_thresh, y_cont_pred.index.min(), y_cont_pred.index.max(), color='red', linestyles='dashed')\n",
    "ax2.hlines(sell_thresh, y_cont_pred.index.min(), y_cont_pred.index.max(), color='red', linestyles='dashed')\n",
    "ax.set(xlabel='Day Seq. Number', title='AAPL Stock Prices');\n",
    "plt.legend();"
   ]
  },
  {
   "cell_type": "code",
   "execution_count": null,
   "metadata": {},
   "outputs": [],
   "source": [
    "# When merging a Pandas dataframe with a Pandas series, the latter must have a name.\n",
    "roll_df = pd.merge(prices_df['AAPL'],\n",
    "                   y_cont_pred.rename('lin_reg'),\n",
    "                   left_index=True, right_index=True, how='outer')\n",
    "\n",
    "trades, days_in_market, reward = rollout(roll_df['AAPL'].to_list(), roll_df['lin_reg'].to_list(), buy_thresh, sell_thresh)\n",
    "reward_per_day = reward / days_in_market\n",
    "ic(reward, days_in_market, reward_per_day);"
   ]
  },
  {
   "cell_type": "code",
   "execution_count": null,
   "metadata": {},
   "outputs": [],
   "source": [
    "# Show the linear regression's output on the 2D plane defined by the two features.\n",
    "# Define bounds of the domain.\n",
    "min1, max1 =  clean_df['AAPL_back_gain_10'].min() - 0.01, clean_df['AAPL_back_gain_10'].max() + 0.01\n",
    "min2, max2 =  clean_df['AUX_0_back_gain_10'].min() - 0.01, clean_df['AUX_0_back_gain_10'].max() + 0.01\n",
    "\n",
    "# Define the x and y grid.\n",
    "x1grid = np.linspace(min1, max1, 100)\n",
    "x2grid = np.linspace(min2, max2, 100)\n",
    "\n",
    "# Create the 2D grid.\n",
    "xx, yy = np.meshgrid(x1grid, x2grid)\n",
    "\n",
    "# Flatten each grid to a vector\n",
    "r1, r2 = xx.flatten(), yy.flatten()\n",
    "r1, r2 = r1.reshape((len(r1), 1)), r2.reshape((len(r2), 1))\n",
    "\n",
    "# Horizontal stack vectors to create x1,x2 input for the model\n",
    "grid = np.hstack((r1,r2))\n",
    "\n",
    "# Use the model to make predictions on the grid.\n",
    "y_hat = reg.predict(grid)\n",
    "\n",
    "# Reshape the predictions back into a grid.\n",
    "zz = y_hat.reshape(xx.shape)\n",
    "\n",
    "# Plot the grid of x, y and z values as a surface\n",
    "plt.rcParams['figure.figsize'] = [14,10]\n",
    "plt.contourf(xx, yy, zz, cmap='gray')\n",
    "\n",
    "# Add the actual training set as a scatter plot.\n",
    "c = plt.scatter(x=clean_df[\"AUX_0_back_gain_10\"], y=clean_df[\"AAPL_back_gain_10\"], c=clean_df[\"AAPL_forw_score_10\"], cmap='jet');\n",
    "# Add a color bar.\n",
    "plt.colorbar(c);"
   ]
  },
  {
   "cell_type": "markdown",
   "metadata": {},
   "source": [
    "<img src=\"desktop-computer-icon.png\" width=\"90\" style=\"float:left; margin-right: 15px;\">\n",
    "<h1> &nbsp; Section E: Parameter Optimization via Optuna</h1><br><br>"
   ]
  },
  {
   "cell_type": "code",
   "execution_count": null,
   "metadata": {},
   "outputs": [],
   "source": [
    "import sys\n",
    "import logging\n",
    "import optuna\n",
    "\n",
    "# Add stream handler of stdout to show the messages.\n",
    "optuna.logging.get_logger(\"optuna\").addHandler(logging.StreamHandler(sys.stdout))\n",
    "# We typically don't really want to see everything that's going on:\n",
    "optuna.logging.set_verbosity(optuna.logging.WARNING)\n",
    "\n",
    "# If we want to set a name for the study (but then we can't re-initialize the study):\n",
    "# study_name = \"make_money\"  # Unique identifier of the study.\n",
    "# If we're really serious about storing the study somewhere:\n",
    "# storage_name = \"sqlite:///{}.db\".format(study_name)\n",
    "\n",
    "# Here we can control the sampling algorithm.\n",
    "study = optuna.create_study(study_name=None, storage=None, direction=\"maximize\", sampler=optuna.samplers.CmaEsSampler())"
   ]
  },
  {
   "cell_type": "code",
   "execution_count": null,
   "metadata": {},
   "outputs": [],
   "source": [
    "def trading_objective(trial):\n",
    "    sell_thresh = trial.suggest_float(\"sell_thresh\", 0.99, 1)  # Provide the sampling range.\n",
    "    buy_thresh = trial.suggest_float(\"buy_thresh\", 1, 1.01)    # Provide the sampling range.\n",
    "    trades, days_in_market, reward = rollout(roll_df['AAPL'].to_list(), roll_df['lin_reg'].to_list(), buy_thresh, sell_thresh)\n",
    "    \n",
    "    # objective_val = 0 if days_in_market==0 else reward / days_in_market\n",
    "    objective_val = reward\n",
    "    \n",
    "    return objective_val"
   ]
  },
  {
   "cell_type": "code",
   "execution_count": null,
   "metadata": {},
   "outputs": [],
   "source": [
    "study.optimize(trading_objective, n_trials=500)"
   ]
  },
  {
   "cell_type": "code",
   "execution_count": null,
   "metadata": {},
   "outputs": [],
   "source": [
    "ic(study.best_params)\n",
    "ic(study.best_value)\n",
    "study.trials_dataframe().head()"
   ]
  },
  {
   "cell_type": "code",
   "execution_count": null,
   "metadata": {},
   "outputs": [],
   "source": [
    "from optuna.visualization import plot_optimization_history"
   ]
  },
  {
   "cell_type": "code",
   "execution_count": null,
   "metadata": {},
   "outputs": [],
   "source": [
    "plot_optimization_history(study)"
   ]
  },
  {
   "cell_type": "code",
   "execution_count": null,
   "metadata": {},
   "outputs": [],
   "source": [
    "# WARNING: this takes a LONG time (~2 minutes)!\n",
    "optuna.visualization.plot_contour(study, params=[\"buy_thresh\", \"sell_thresh\"])"
   ]
  },
  {
   "cell_type": "markdown",
   "metadata": {},
   "source": [
    "<img src=\"Electronic_Brain.png\" width=\"140\" style=\"float:left; margin-right: 1px;\">\n",
    "Is it possible (theoretically) for the optimization above to beat the oracle's performance (defined above)?"
   ]
  },
  {
   "cell_type": "markdown",
   "metadata": {},
   "source": [
    "<img src=\"desktop-computer-icon.png\" width=\"90\" style=\"float:left; margin-right: 25px;\"><br>\n",
    "* Fixing the optimization results obtained above (i.e., buy_thresh and sell_thresh), simulate the performance on data obtained from 10 new seeds. What do we see?\n",
    "* Repeat the process with a different sampler (i.e., instead of CmaEsSampler()). How does this affect the contour plot?\n",
    "* Propose and code a new objective function, which makes more \"sense\" in terms of trading."
   ]
  },
  {
   "cell_type": "code",
   "execution_count": null,
   "metadata": {},
   "outputs": [],
   "source": []
  }
 ],
 "metadata": {
  "kernelspec": {
   "display_name": "Python 3",
   "language": "python",
   "name": "python3"
  },
  "language_info": {
   "codemirror_mode": {
    "name": "ipython",
    "version": 3
   },
   "file_extension": ".py",
   "mimetype": "text/x-python",
   "name": "python",
   "nbconvert_exporter": "python",
   "pygments_lexer": "ipython3",
   "version": "3.8.3"
  }
 },
 "nbformat": 4,
 "nbformat_minor": 4
}
