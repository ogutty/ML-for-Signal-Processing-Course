{
 "cells": [
  {
   "cell_type": "markdown",
   "metadata": {},
   "source": [
    "<img src=\"Electronic_Brain.png\" width=\"200\" style=\"float:left\">\n",
    "<h1> Summer 2021 ML Course.</h1>\n",
    "<h2> Exercise 7: Nonlinear Regression Models, Distribution Drift<br>Tools: Numpy, Pandas, Scikit-Learn</h2>"
   ]
  },
  {
   "cell_type": "code",
   "execution_count": null,
   "metadata": {},
   "outputs": [],
   "source": [
    "!python --version\n",
    "import numpy as np\n",
    "import pandas as pd\n",
    "import matplotlib.pyplot as plt\n",
    "from random import gauss, randint\n",
    "from sklearn.linear_model import LinearRegression\n",
    "from sklearn.preprocessing import PolynomialFeatures\n",
    "from sklearn.linear_model import LogisticRegression\n",
    "from sklearn.neighbors import KNeighborsRegressor\n",
    "from sklearn.pipeline import make_pipeline\n",
    "from sklearn.model_selection import train_test_split\n",
    "from icecream import ic"
   ]
  },
  {
   "cell_type": "code",
   "execution_count": null,
   "metadata": {},
   "outputs": [],
   "source": [
    "# Set a few defaults.\n",
    "np.random.seed(42)\n",
    "pd.set_option('display.precision', 3)\n",
    "plt.rcParams['figure.figsize'] = [15, 5]"
   ]
  },
  {
   "cell_type": "markdown",
   "metadata": {},
   "source": [
    "<img src=\"desktop-computer-icon.png\" width=\"80\" style=\"float:left\">\n",
    "<h1> &nbsp; Section A: Signal Generation.</h1>"
   ]
  },
  {
   "cell_type": "code",
   "execution_count": null,
   "metadata": {},
   "outputs": [],
   "source": [
    "\"\"\"\n",
    "Generate AAPL's \"bipolar\" behavior, alternating between price levels of 10 and 30 USD with noise, for 20 days at a time.\n",
    "Our target function today is a \"long straddle\".\n",
    "Basically, the long straddle makes money on big price swings (up *OR* down),\n",
    "and loses when prices are \"calm\" (within a relatively flat range).\n",
    "\"\"\"\n",
    "def generate_prices(sigma=5, regime_len=20, num_regimes=20):\n",
    "    prices_df = pd.DataFrame()\n",
    "    appl_prices = np.array([])\n",
    "    for i in range(num_regimes):\n",
    "        curr_prices = 20 + 10*(-1)**i + np.random.normal(0, sigma, regime_len)\n",
    "        appl_prices = np.append(appl_prices, curr_prices)\n",
    "\n",
    "    prices_df['AAPL'] = appl_prices\n",
    "\n",
    "    # Generate backward & forward 10-day gains (*NOT* rolling means).\n",
    "    prices_df['AAPL_back_10_day_gain'] = prices_df['AAPL'] - prices_df['AAPL'].shift(10)\n",
    "    prices_df['AAPL_back_30_day_gain'] = prices_df['AAPL'] - prices_df['AAPL'].shift(30)\n",
    "\n",
    "    # Create the \"long straddle\" (continuous) target function and its discrete version.\n",
    "    prices_df['target'] = abs(prices_df['AAPL'] - prices_df['AAPL'].shift(-10)) - 20\n",
    "    prices_df['discrete_target'] = prices_df['target'] > 0\n",
    "\n",
    "    # Return a \"clean\" version of the prices dataframe, with no missing values.\n",
    "    prices_df.dropna(inplace=True)\n",
    "    return(prices_df)"
   ]
  },
  {
   "cell_type": "code",
   "execution_count": null,
   "metadata": {},
   "outputs": [],
   "source": [
    "Apple_df = generate_prices()\n",
    "X = Apple_df[['AAPL_back_10_day_gain', 'AAPL_back_30_day_gain']]\n",
    "y = Apple_df['target']\n",
    "y_discrete = Apple_df['target'] > 0"
   ]
  },
  {
   "cell_type": "code",
   "execution_count": null,
   "metadata": {
    "tags": []
   },
   "outputs": [],
   "source": [
    "fig, ax = plt.subplots()\n",
    "ax.plot(Apple_df['AAPL'], label='AAPL')\n",
    "ax.set(xlabel='Day Seq. Number', title='AAPL Prices');\n",
    "plt.legend();"
   ]
  },
  {
   "cell_type": "markdown",
   "metadata": {
    "tags": []
   },
   "source": [
    "<img src=\"desktop-computer-icon.png\" width=\"80\" style=\"float:left\">\n",
    "<h1> &nbsp; Section B: Feature & Target Extraction and Visualization</h1>"
   ]
  },
  {
   "cell_type": "code",
   "execution_count": null,
   "metadata": {},
   "outputs": [],
   "source": [
    "plt.rcParams['figure.figsize'] = [8,6]\n",
    "Apple_df.plot.scatter(x=\"AAPL_back_10_day_gain\", y=\"AAPL_back_30_day_gain\", c=\"target\", cmap='jet', title='Forward gain');"
   ]
  },
  {
   "cell_type": "code",
   "execution_count": null,
   "metadata": {},
   "outputs": [],
   "source": [
    "\"\"\"\n",
    "Show the linear regression's output on the 2D plane defined by the two features.\n",
    "\"\"\"\n",
    "def show_regression(reg):\n",
    "    # Define bounds of the domain.\n",
    "    min1, max1 = Apple_df['AAPL_back_10_day_gain'].min()-5, Apple_df['AAPL_back_10_day_gain'].max()+5\n",
    "    min2, max2 = Apple_df['AAPL_back_30_day_gain'].min()-5, Apple_df['AAPL_back_30_day_gain'].max()+5\n",
    "\n",
    "    # Define the x and y grid.\n",
    "    x1grid = np.linspace(min1, max1, 100)\n",
    "    x2grid = np.linspace(min2, max2, 100)\n",
    "\n",
    "    # Create the 2D grid.\n",
    "    xx, yy = np.meshgrid(x1grid, x2grid)\n",
    "\n",
    "    # Flatten each grid to a vector\n",
    "    r1, r2 = xx.flatten(), yy.flatten()\n",
    "    r1, r2 = r1.reshape((len(r1), 1)), r2.reshape((len(r2), 1))\n",
    "\n",
    "    # Horizontal stack vectors to create x1,x2 input for the model\n",
    "    grid = np.hstack((r1,r2))\n",
    "\n",
    "    # Use the model to make predictions on the grid.\n",
    "    y_hat = reg.predict(grid) # For all real-valued regression algs.\n",
    "\n",
    "    # Reshape the predictions back into a grid.\n",
    "    zz = y_hat.reshape(xx.shape)\n",
    "\n",
    "    # Plot the grid of x, y and z values as a surface\n",
    "    plt.rcParams['figure.figsize'] = [8,6]\n",
    "    plt.contourf(xx, yy, zz, cmap='gray')\n",
    "\n",
    "    # Add the actual training set as a scatter plot.\n",
    "    c = plt.scatter(x=Apple_df[\"AAPL_back_10_day_gain\"],\n",
    "                    y=Apple_df[\"AAPL_back_30_day_gain\"],\n",
    "                    c=Apple_df[\"target\"], cmap='jet');\n",
    "    # Add a color bar.\n",
    "    plt.colorbar(c);"
   ]
  },
  {
   "cell_type": "code",
   "execution_count": null,
   "metadata": {},
   "outputs": [],
   "source": [
    "\"\"\"\n",
    "Perform 100-fold cross validation to estimate the regressor's accuracy.\n",
    "Check the scikit-learn documentation to check how score() scores the regression algorithms.\n",
    "\"\"\"\n",
    "def eval_regression(reg_func, target_field, X_df):\n",
    "    score_sum=0\n",
    "    for _ in range(100):\n",
    "        X_train, X_test, y_train, y_test = train_test_split(X_df[[\"AAPL_back_10_day_gain\", \"AAPL_back_30_day_gain\"]], X_df[target_field], test_size=0.1)\n",
    "        reg_func.fit(X_train, y_train)\n",
    "        score_sum += reg_func.score(X_test, y_test)\n",
    "    return(score_sum/100)"
   ]
  },
  {
   "cell_type": "markdown",
   "metadata": {
    "tags": []
   },
   "source": [
    "<img src=\"desktop-computer-icon.png\" width=\"80\" style=\"float:left\">\n",
    "<h1> &nbsp; Section C: Regression Training and Visualization</h1>"
   ]
  },
  {
   "cell_type": "code",
   "execution_count": null,
   "metadata": {},
   "outputs": [],
   "source": [
    "# Train a linear regressor on the continuous target.\n",
    "ols_reg = LinearRegression()\n",
    "ols_reg.fit(X, y)\n",
    "# Show & evaluate the result.\n",
    "show_regression(ols_reg)\n",
    "score = eval_regression(ols_reg, 'target', Apple_df)\n",
    "ic(\"Ordinary Least Squares score:\", score);"
   ]
  },
  {
   "cell_type": "markdown",
   "metadata": {},
   "source": [
    "<img src=\"Roni.png\" width=\"50\" style=\"float:left\">\n",
    " &nbsp; Please consult the scikit-learn documentation and look up the score() function. <br>\n",
    " &nbsp; Then, explain to Ronny why his linear model failed to capitalize on Apple's predictable behavior..."
   ]
  },
  {
   "cell_type": "code",
   "execution_count": null,
   "metadata": {},
   "outputs": [],
   "source": [
    "# Train K-nearest-neighbor regression.\n",
    "num_neighbs=1\n",
    "knn_reg = KNeighborsRegressor(n_neighbors=num_neighbs)\n",
    "knn_reg.fit(X, y)\n",
    "show_regression(knn_reg)\n",
    "score = eval_regression(knn_reg, 'target', Apple_df)\n",
    "print(\"KNN score for\", num_neighbs, \"neighbors:\", score);"
   ]
  },
  {
   "cell_type": "markdown",
   "metadata": {
    "tags": []
   },
   "source": [
    "<img src=\"Motti.png\" width=\"50\" style=\"float:left\">\n",
    " &nbsp; Kindly help Motti (manually) optimize the number of neighbors to achieve a better fit!"
   ]
  },
  {
   "cell_type": "code",
   "execution_count": null,
   "metadata": {},
   "outputs": [],
   "source": [
    "# Try using ordinary least squares with polynomial features.\n",
    "poly_order = 2\n",
    "regressor = LinearRegression()\n",
    "ols_poly_model = make_pipeline(PolynomialFeatures(poly_order), regressor)\n",
    "ols_poly_model.fit(X,y)\n",
    "show_regression(ols_poly_model)\n",
    "score = eval_regression(ols_poly_model, 'target', Apple_df)\n",
    "print(\"OLS regression with order\", poly_order, \"polynomial features:\", score)"
   ]
  },
  {
   "cell_type": "markdown",
   "metadata": {},
   "source": [
    "<img src=\"Batya.png\" width=\"60\" style=\"float:left\">\n",
    " &nbsp; Kindly help Batya (manually) optimize the polynomial dimension to achieve a good fit!"
   ]
  },
  {
   "cell_type": "code",
   "execution_count": null,
   "metadata": {},
   "outputs": [],
   "source": [
    "\"\"\"\n",
    "Show the linear regression's output on the 2D plane defined by the two features.\n",
    "This version is suitable for classifiers (with probability outputs) as opposed to regressors.\n",
    "The only difference is the use of the (scikit-learn standard) predict_proba() function.\n",
    "\"\"\"\n",
    "def show_classification_probs(cls):\n",
    "    # Define bounds of the domain.\n",
    "    min1, max1 = Apple_df['AAPL_back_10_day_gain'].min()-5, Apple_df['AAPL_back_10_day_gain'].max()+5\n",
    "    min2, max2 = Apple_df['AAPL_back_30_day_gain'].min()-5, Apple_df['AAPL_back_30_day_gain'].max()+5\n",
    "\n",
    "    # Define the x and y grid.\n",
    "    x1grid = np.linspace(min1, max1, 100)\n",
    "    x2grid = np.linspace(min2, max2, 100)\n",
    "\n",
    "    # Create the 2D grid.\n",
    "    xx, yy = np.meshgrid(x1grid, x2grid)\n",
    "\n",
    "    # Flatten each grid to a vector\n",
    "    r1, r2 = xx.flatten(), yy.flatten()\n",
    "    r1, r2 = r1.reshape((len(r1), 1)), r2.reshape((len(r2), 1))\n",
    "\n",
    "    # Horizontal stack vectors to create x1,x2 input for the model\n",
    "    grid = np.hstack((r1,r2))\n",
    "\n",
    "    # Use the model to make predictions on the grid.\n",
    "    y_hat = cls.predict_proba(grid) # Use predict_proba() to access classification algs' probabilities.\n",
    "\n",
    "    # Reshape the predictions back into a grid.\n",
    "    zz = y_hat[:,0].reshape(xx.shape) # Use the first class' probability.\n",
    "\n",
    "    # Plot the grid of x, y and z values as a surface\n",
    "    plt.rcParams['figure.figsize'] = [8,6]\n",
    "    plt.contourf(xx, yy, zz, cmap='gray')\n",
    "\n",
    "    # Add the actual training set as a scatter plot.\n",
    "    c = plt.scatter(x=Apple_df[\"AAPL_back_10_day_gain\"],\n",
    "                    y=Apple_df[\"AAPL_back_30_day_gain\"],\n",
    "                    c=Apple_df[\"target\"], cmap='jet');\n",
    "    # Add a color bar.\n",
    "    plt.colorbar(c);"
   ]
  },
  {
   "cell_type": "code",
   "execution_count": null,
   "metadata": {},
   "outputs": [],
   "source": [
    "# Set up logistic regression for the problem.\n",
    "poly_order = 2\n",
    "regressor = LogisticRegression(random_state=0, max_iter=1500)\n",
    "logistic_poly_model = make_pipeline(PolynomialFeatures(poly_order), regressor)\n",
    "logistic_poly_model.fit(X,y_discrete)\n",
    "show_classification_probs(logistic_poly_model)\n",
    "score = eval_regression(logistic_poly_model, 'discrete_target', Apple_df)\n",
    "print(\"Logistic regression:\", score)"
   ]
  },
  {
   "cell_type": "markdown",
   "metadata": {
    "tags": []
   },
   "source": [
    "<img src=\"panicked_cat.png\" width=\"120\" style=\"float:left\">\n",
    "<h1> &nbsp; Section D: Re-evaluating Models on Drifting / Shifting Distributions</h1>\n",
    "Please regenerate AAPL's price history, using values of regime_len in the [15, 60] range.<br>\n",
    "Then, proceed to help our nervous cat check the model's performance when using the previously constructed OLS polynomial model on the new data (for each regime_len)."
   ]
  },
  {
   "cell_type": "code",
   "execution_count": null,
   "metadata": {},
   "outputs": [],
   "source": [
    "# Regenerate AAPL's behavior, using different values of regime_len params.\n",
    "# For each value, re-evaluate the *original* ols_poly_model on the new dataset, *without* retraining!\n",
    "scores={}\n",
    "for regime_len in range(15, 60):\n",
    "    apple2_df = generate_prices(regime_len=regime_len)\n",
    "    # -----------------------------------\n",
    "    # Please fill in the function, placing\n",
    "    # the values in the scores dictionary.\n",
    "    # -----------------------------------"
   ]
  },
  {
   "cell_type": "code",
   "execution_count": null,
   "metadata": {},
   "outputs": [],
   "source": [
    "fig, ax = plt.subplots()\n",
    "ax.plot(scores.keys(), scores.values(), label='OLS_poly_model as function of regime_len')\n",
    "ax.set(xlabel='regime_len', title='model score');\n",
    "plt.legend();"
   ]
  },
  {
   "cell_type": "markdown",
   "metadata": {},
   "source": [
    "Please explain the resulting graph to our cat. When should the cat panic?"
   ]
  },
  {
   "cell_type": "code",
   "execution_count": null,
   "metadata": {},
   "outputs": [],
   "source": []
  }
 ],
 "metadata": {
  "kernelspec": {
   "display_name": "Python 3",
   "language": "python",
   "name": "python3"
  },
  "language_info": {
   "codemirror_mode": {
    "name": "ipython",
    "version": 3
   },
   "file_extension": ".py",
   "mimetype": "text/x-python",
   "name": "python",
   "nbconvert_exporter": "python",
   "pygments_lexer": "ipython3",
   "version": "3.8.3"
  }
 },
 "nbformat": 4,
 "nbformat_minor": 4
}
